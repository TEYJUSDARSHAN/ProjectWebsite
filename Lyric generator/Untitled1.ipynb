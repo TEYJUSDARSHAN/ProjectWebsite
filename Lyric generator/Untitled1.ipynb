{
  "nbformat": 4,
  "nbformat_minor": 0,
  "metadata": {
    "colab": {
      "name": "Untitled1.ipynb",
      "provenance": [],
      "collapsed_sections": [],
      "toc_visible": true
    },
    "kernelspec": {
      "name": "python3",
      "display_name": "Python 3"
    },
    "accelerator": "GPU"
  },
  "cells": [
    {
      "cell_type": "code",
      "metadata": {
        "id": "hY1Nhzvqx_LN"
      },
      "source": [
        "import tensorflow as tf\r\n",
        "from tensorflow import keras\r\n",
        "\r\n",
        "from tensorflow.keras.preprocessing.sequence import pad_sequences\r\n",
        "from tensorflow.keras.layers import Embedding, LSTM, Dense, Bidirectional\r\n",
        "from tensorflow.keras.preprocessing.text import Tokenizer\r\n",
        "from tensorflow.keras.models import Sequential\r\n",
        "from tensorflow.keras.optimizers import Adam\r\n",
        "import numpy as np "
      ],
      "execution_count": null,
      "outputs": []
    },
    {
      "cell_type": "code",
      "metadata": {
        "colab": {
          "base_uri": "https://localhost:8080/"
        },
        "id": "mPpirVoByzIm",
        "outputId": "782dbc2d-7ada-4508-b8d9-01afdaba6907"
      },
      "source": [
        ""
      ],
      "execution_count": null,
      "outputs": [
        {
          "output_type": "stream",
          "text": [
            "--2020-12-21 11:09:46--  https://storage.googleapis.com/laurencemoroney-blog.appspot.com/irish-lyrics-eof.txt\n",
            "Resolving storage.googleapis.com (storage.googleapis.com)... 108.177.120.128, 74.125.132.128, 173.194.197.128, ...\n",
            "Connecting to storage.googleapis.com (storage.googleapis.com)|108.177.120.128|:443... connected.\n",
            "HTTP request sent, awaiting response... 200 OK\n",
            "Length: 68970 (67K) [text/plain]\n",
            "Saving to: ‘/tmp/irish-lyrics-eof.txt’\n",
            "\n",
            "\r          /tmp/iris   0%[                    ]       0  --.-KB/s               \r/tmp/irish-lyrics-e 100%[===================>]  67.35K  --.-KB/s    in 0.001s  \n",
            "\n",
            "2020-12-21 11:09:46 (103 MB/s) - ‘/tmp/irish-lyrics-eof.txt’ saved [68970/68970]\n",
            "\n"
          ],
          "name": "stdout"
        }
      ]
    },
    {
      "cell_type": "code",
      "metadata": {
        "id": "9MVBXkUw8Ewv"
      },
      "source": [
        ""
      ],
      "execution_count": null,
      "outputs": []
    },
    {
      "cell_type": "code",
      "metadata": {
        "colab": {
          "base_uri": "https://localhost:8080/"
        },
        "id": "V3lTc6E3y_RR",
        "outputId": "0b91f697-9a8c-4bd9-f086-9ce409113e00"
      },
      "source": [
        "tokenizer = Tokenizer()\r\n",
        "\r\n",
        "data = open('/content/sheerandataset.txt').read()\r\n",
        "\r\n",
        "corpus = data.lower().split(\"\\n\")\r\n",
        "\r\n",
        "tokenizer.fit_on_texts(corpus)\r\n",
        "\r\n",
        "total_words = len(tokenizer.word_index) + 1;\r\n",
        "\r\n",
        "print(tokenizer.word_index)\r\n",
        "print(total_words)\r\n"
      ],
      "execution_count": null,
      "outputs": [
        {
          "output_type": "stream",
          "text": [
            "{'i': 1, 'the': 2, 'you': 3, 'and': 4, 'me': 5, 'my': 6, 'in': 7, 'to': 8, 'a': 9, 'love': 10, 'on': 11, 'with': 12, 'that': 13, \"i'm\": 14, 'your': 15, 'we': 16, 'of': 17, 'know': 18, 'all': 19, 'it': 20, 'but': 21, \"don't\": 22, 'so': 23, 'be': 24, 'for': 25, 'when': 26, 'she': 27, 'just': 28, 'her': 29, 'this': 30, 'like': 31, 'now': 32, 'baby': 33, 'out': 34, 'are': 35, 'if': 36, 'can': 37, 'is': 38, 'up': 39, 'come': 40, \"it's\": 41, \"i'll\": 42, 'need': 43, \"you're\": 44, 'oh': 45, \"'cause\": 46, 'then': 47, 'never': 48, 'time': 49, 'was': 50, 'one': 51, 'no': 52, 'not': 53, 'do': 54, 'go': 55, 'wanna': 56, 'yeah': 57, 'down': 58, 'from': 59, \"i've\": 60, 'got': 61, 'been': 62, 'back': 63, 'take': 64, 'want': 65, 'feel': 66, 'were': 67, 'as': 68, 'home': 69, 'heart': 70, 'eyes': 71, 'could': 72, 'or': 73, \"that's\": 74, 'cross': 75, 'put': 76, 'have': 77, 'way': 78, 'darling': 79, 'our': 80, 'too': 81, 'by': 82, 'man': 83, 'what': 84, 'let': 85, 'these': 86, 'will': 87, 'hand': 88, 'only': 89, 'say': 90, 'at': 91, 'get': 92, 'found': 93, 'day': 94, 'things': 95, 'they': 96, 'here': 97, \"ain't\": 98, 'an': 99, 'ever': 100, 'see': 101, 'girl': 102, 'tell': 103, 'night': 104, 'maybe': 105, 'said': 106, 'look': 107, 'arms': 108, 'still': 109, 'give': 110, 'right': 111, 'make': 112, 'ooh': 113, 'where': 114, 'falling': 115, 'told': 116, 'should': 117, 'think': 118, 'well': 119, 'ya': 120, 'over': 121, 'loved': 122, 'beautiful': 123, \"we'll\": 124, 'saw': 125, 'took': 126, 'how': 127, 'keep': 128, 'kiss': 129, 'life': 130, 'hold': 131, 'something': 132, 'dance': 133, 'call': 134, 'border': 135, \"can't\": 136, 'while': 137, \"won't\": 138, 'free': 139, 'better': 140, 'he': 141, 'every': 142, 'tonight': 143, 'same': 144, 'getting': 145, 'more': 146, 'away': 147, 'leave': 148, 'friends': 149, 'another': 150, 'singing': 151, 'about': 152, 'thing': 153, 'old': 154, 'mind': 155, 'done': 156, 'cold': 157, 'lead': 158, 'even': 159, 'water': 160, 'gonna': 161, 'again': 162, 'place': 163, 'body': 164, 'into': 165, 'until': 166, 'care': 167, \"we're\": 168, 'people': 169, 'little': 170, 'there': 171, 'stay': 172, 'am': 173, 'before': 174, 'sing': 175, 'made': 176, 'us': 177, 'nobody': 178, 'fall': 179, 'wait': 180, 'hey': 181, 'making': 182, 'lips': 183, 'fell': 184, 'perfect': 185, 'angels': 186, \"you'll\": 187, 'who': 188, 'would': 189, 'through': 190, 'two': 191, 'had': 192, 'loving': 193, 'looking': 194, 'hurt': 195, 'broken': 196, 'last': 197, 'shit': 198, 'long': 199, 'alone': 200, 'slowly': 201, 'words': 202, 'nights': 203, 'stars': 204, 'song': 205, 'inside': 206, 'new': 207, 'south': 208, 'holding': 209, 'follow': 210, 'shape': 211, 'dark': 212, 'bad': 213, 'fly': 214, 'drink': 215, \"she's\": 216, 'burn': 217, 'them': 218, 'truth': 219, 'touch': 220, 'week': 221, 'lately': 222, 'happier': 223, 'dancing': 224, 'somebody': 225, 'between': 226, 'grass': 227, 'jump': 228, 'fuck': 229, 'babe': 230, 'soul': 231, 'hard': 232, 'fill': 233, 'drunk': 234, 'gone': 235, 'hearts': 236, 'disappear': 237, 'mine': 238, 'close': 239, 'couple': 240, 'name': 241, 'own': 242, 'kids': 243, 'clothes': 244, 'upon': 245, 'feeling': 246, 'neck': 247, 'talk': 248, 'much': 249, 'knows': 250, 'knew': 251, \"'bout\": 252, 'around': 253, 'crazy': 254, 'play': 255, 'some': 256, 'strong': 257, 'both': 258, 'than': 259, 'room': 260, 'london': 261, 'played': 262, 'outside': 263, 'barefoot': 264, 'listening': 265, 'under': 266, 'seed': 267, 'may': 268, 'find': 269, 'side': 270, 'really': 271, 'years': 272, 'met': 273, 'woman': 274, 'wexford': 275, 'near': 276, \"there's\": 277, \"i'd\": 278, 'scars': 279, 'anything': 280, 'worry': 281, 'since': 282, 'believe': 283, 'mean': 284, 'his': 285, 'good': 286, 'o': 287, 'spread': 288, 'wings': 289, 'high': 290, 'remember': 291, 'kissed': 292, 'sweet': 293, 'push': 294, 'discovering': 295, 'brand': 296, 'dive': 297, 'carry': 298, 'angel': 299, 'die': 300, 'fit': 301, 'thinking': 302, 'party': 303, 'deal': 304, 'castle': 305, 'hill': 306, 'mmm': 307, 'hallelujah': 308, 'sky': 309, 'waiting': 310, 'promise': 311, 'everything': 312, 'bleed': 313, 'always': 314, 'friend': 315, 'wrong': 316, 'sat': 317, 'lady': 318, 'meet': 319, 'bottle': 320, 'head': 321, 'hear': 322, 'beat': 323, 'kicks': 324, 'nancy': 325, 'world': 326, 'hair': 327, 'god': 328, 'across': 329, 'line': 330, 'dress': 331, 'light': 332, 'yup': 333, 'flows': 334, 'hell': 335, 'hit': 336, 'straight': 337, \"everything's\": 338, 'did': 339, 'worries': 340, 'loves': 341, 'best': 342, 'bar': 343, 'someone': 344, 'hide': 345, 'deserve': 346, 'grime': 347, 'pretty': 348, 'galway': 349, 'heard': 350, 'stop': 351, 'favorite': 352, 'ourselves': 353, \"'til\": 354, 'taste': 355, 'bed': 356, 'face': 357, 'pick': 358, 'fire': 359, 'rain': 360, 'clouds': 361, 'stumbling': 362, 'their': 363, 'myself': 364, 'late': 365, 'rave': 366, 'figure': 367, 'hope': 368, 'brother': 369, 'marry': 370, 'went': 371, 'moment': 372, 'white': 373, 'jet': 374, 'sitting': 375, 'chemicals': 376, 'bloodstream': 377, 'lover': 378, 'thought': 379, 'enough': 380, 'breath': 381, 'other': 382, \"nobody's\": 383, 'ayy': 384, 'gotta': 385, 'ah': 386, 'rap': 387, 'team': 388, 'end': 389, 'drop': 390, 'came': 391, 'why': 392, 'whenever': 393, 'anyone': 394, 'part': 395, 'phone': 396, 'shows': 397, 'da': 398, 'dum': 399, 'against': 400, 'help': 401, 'looked': 402, 'beating': 403, 'younger': 404, 'front': 405, 'ask': 406, 'deeper': 407, 'smile': 408, 'plane': 409, 'off': 410, 'sweat': 411, 'top': 412, 'fiddle': 413, 'irish': 414, 'band': 415, 'english': 416, 'smell': 417, 'slow': 418, \"let's\": 419, 'pull': 420, 'mess': 421, 'thousand': 422, 'rolled': 423, \"d'you\": 424, 'live': 425, 'joy': 426, 'aim': 427, 'reload': 428, 'him': 429, 'mum': 430, 'pain': 431, 'lord': 432, 'tears': 433, 'dreams': 434, 'senses': 435, 'collide': 436, 'glass': 437, 'wish': 438, 'set': 439, 'tone': 440, 'days': 441, 'already': 442, 'deep': 443, 'mouth': 444, 'house': 445, 'summer': 446, 'run': 447, 'religion': 448, 'mulligan': 449, 'william': 450, 'sheeran': 451, 'seen': 452, 'children': 453, 'three': 454, 'boy': 455, 'town': 456, 'wine': 457, 'pages': 458, \"how'd\": 459, 'hearted': 460, 'surrounded': 461, 'coming': 462, 'fucking': 463, 'together': 464, 'crossed': 465, 'running': 466, 'doing': 467, \"lil'\": 468, 'respect': 469, 'none': 470, 'sell': 471, 'bit': 472, 'cause': 473, 'mc': 474, \"'em\": 475, 'money': 476, 'gave': 477, 'finish': 478, 'fighting': 479, 'diamonds': 480, 'any': 481, 'tryna': 482, 'low': 483, 'try': 484, 'demons': 485, 'lean': 486, 'soft': 487, 'tried': 488, 'ways': 489, 'grab': 490, 'waist': 491, 'start': 492, 'lungs': 493, \"they're\": 494, 'else': 495, 'sense': 496, 'yet': 497, 'lie': 498, 'feels': 499, 'warm': 500, 'guess': 501, 'miles': 502, 'lights': 503, 'next': 504, 'taking': 505, 'spending': 506, \"we've\": 507, 'corner': 508, \"you'd\": 509, 'headed': 510, 'beef': 511, 'middle': 512, 'ten': 513, 'sound': 514, 'after': 515, 'swear': 516, 'closing': 517, 'conversation': 518, 'magnet': 519, 'although': 520, 'bedsheets': 521, 'hours': 522, 'okay': 523, 'knowing': 524, 'whispered': 525, 'underneath': 526, 'person': 527, 'memories': 528, 'forever': 529, 'ripped': 530, 'mend': 531, 'loud': 532, 'memory': 533, 'mm': 534, 'wants': 535, 'anywhere': 536, 'broke': 537, 'those': 538, 'country': 539, 'lanes': 540, 'miss': 541, 'real': 542, 'watched': 543, 'sunset': 544, \"one's\": 545, \"lookin'\": 546, 'become': 547, 'notes': 548, 'join': 549, 'green': 550, 'fight': 551, 'seek': 552, 'turn': 553, 'allow': 554, 'rise': 555, 'aeroplane': 556, 'hanging': 557, 'known': 558, 'unless': 559, 'class': 560, 'stuck': 561, 'daydream': 562, '18': 563, 'seems': 564, 'sinking': 565, 'wasting': 566, 'crumbling': 567, 'pastries': 568, 'scream': 569, 'worst': 570, 'upper': 571, 'mad': 572, 'grams': 573, 'pipe': 574, 'motherland': 575, 'sight': 576, 'father': 577, 'though': 578, 'brings': 579, 'ground': 580, 'eye': 581, 'reach': 582, 'change': 583, 'within': 584, 'half': 585, 'lost': 586, 'songs': 587, 'most': 588, 'ahead': 589, 'nothing': 590, 'smoke': 591, 'meant': 592, 'drive': 593, 'sit': 594, 'couch': 595, 'led': 596, 'kissing': 597, 'involved': 598, 'rushing': 599, 'toe': 600, 'twenty': 601, 'four': 602, 'growing': 603, 'bought': 604, 'wedding': 605, 'ring': 606, 'asked': 607, 'second': 608, 'black': 609, 'crown': 610, 'women': 611, 'faded': 612, 'lonely': 613, 'learn': 614, 'colored': 615, 'crimson': 616, 'ends': 617, 'fading': 618, 'forgive': 619, 'calling': 620, 'voices': 621, 'wonderful': 622, 'falls': 623, 'shoulders': 624, 'blue': 625, 'fade': 626, 'messing': 627, 'different': 628, 'understand': 629, 'spent': 630, 'jumping': 631, \"trippin'\": 632, 'sure': 633, 'solo': 634, \"doesn't\": 635, 'matter': 636, 'standing': 637, \"gon'\": 638, 'kung': 639, 'air': 640, 'wear': 641, 'without': 642, 'pay': 643, 'fact': 644, 'dont': 645, 'blows': 646, 'skin': 647, 'wake': 648, 'bring': 649, 'eat': 650, \"didn't\": 651, 'bet': 652, 'imagine': 653, 'game': 654, \"everybody's\": 655, 'walk': 656, 'bite': 657, 'taken': 658, 'each': 659, 'everyday': 660, 'remain': 661, 'catch': 662, \"darlin'\": 663, \"hasn't\": 664, 'judge': 665, 'ne': 666, 'hands': 667, 'thin': 668, 'ink': 669, 'bits': 670, 'settle': 671, \"heart's\": 672, 'chest': 673, 'pressed': 674, 'forget': 675, 'lust': 676, 'moon': 677, 'sang': 678, 'america': 679, 'open': 680, 'horizons': 681, 'guide': 682, 'radio': 683, 'playing': 684, 'parked': 685, 'car': 686, 'stealing': 687, 'kisses': 688, 'yard': 689, 'questions': 690, \"friend's\": 691, 'watching': 692, 'moves': 693, 'chat': 694, 'pricks': 695, 'shooter': 696, 'ride': 697, 'guy': 698, 'wet': 699, 'big': 700, 'teddy': 701, 'write': 702, 'pub': 703, 'yes': 704, 'tour': 705, 'track': 706, 'michael': 707, 'bass': 708, \"ceilin'\": 709, 'does': 710, 'ed': 711, 'case': 712, 'closed': 713, 'street': 714, 'fun': 715, 'table': 716, 'van': 717, 'jukebox': 718, 'called': 719, 'feet': 720, 'packed': 721, 'walked': 722, 'trust': 723, 'handmade': 724, 'going': 725, 'first': 726, 'sour': 727, 'favourite': 728, 'stronger': 729, 'shares': 730, 'someday': 731, 'share': 732, 'secrets': 733, 'odds': 734, 'alright': 735, 'future': 736, 'faith': 737, 'looks': 738, 'sometimes': 739, 'photograph': 740, \"time's\": 741, 'frozen': 742, 'pocket': 743, 'jeans': 744, 'closer': 745, 'hmm': 746, 'legs': 747, 'mysterious': 748, 'honey': 749, \"everyone's\": 750, 'rather': 751, 'sorry': 752, 'grown': 753, 'driving': 754, '90': 755, 'tiny': 756, 'dancer': 757, 'reckon': 758, 'l': 759, 'use': 760, \"gettin'\": 761, 'stunning': 762, 'dear': 763, 'question': 764, 'fear': 765, 'designer': 766, 'row': 767, 'fashion': 768, 'champagne': 769, 'prenups': 770, 'homes': 771, 'brown': 772, 'curves': 773, 'dream': 774, 'says': 775, \"borin'\": 776, 'uh': 777, 'woo': 778, 'dropped': 779, 'album': 780, 'paint': 781, 'blood': 782, 'alcohol': 783, \"e'er\": 784, 'parting': 785, 'wanted': 786, 'staying': 787, 'hotel': 788, 'bastard': 789, 'cards': 790, 'flies': 791, 'sells': 792, 'dry': 793, 'tear': 794, 'pieces': 795, 'takes': 796, 'december': 797, 'sheltered': 798, 'storm': 799, 'raging': 800, 'sins': 801, 'weigh': 802, 'mother': 803, 'refine': 804, 'purest': 805, 'kings': 806, 'needs': 807, \"'fore\": 808, 'grows': 809, 'keeps': 810, 'hunger': 811, 'profound': 812, 'count': 813, 'vain': 814, 'seas': 815, 'full': 816, 'stops': 817, 'shore': 818, 'riches': 819, 'grandeur': 820, 'poor': 821, 'thunderous': 822, 'applause': 823, 'lightning': 824, 'veins': 825, 'draw': 826, 'turned': 827, 'asks': 828, 'plans': 829, 'hopes': 830, 'changes': 831, 'strangers': 832, 'walls': 833, 'listen': 834, 'sad': 835, 'goes': 836, 'evening': 837, 'ignoring': 838, 'everybody': 839, 'programme': 840, 'step': 841, \"man's\": 842, 'land': 843, 'longest': 844, 'ablaze': 845, 'flames': 846, 'stage': 847, 'brigade': 848, 'comes': 849, 'roads': 850, 'changed': 851, 'local': 852, 'supposed': 853, 'pray': 854, 'nice': 855, 'handed': 856, 'filled': 857, 'tequila': 858, 'keeper': 859, 'small': 860, 'act': 861, 'kindness': 862, 'anybody': 863, 'finds': 864, 'sobering': 865, 'guys': 866, 'music': 867, 'hiding': 868, 'grand': 869, 'proposed': 870, 'dentist': 871, 'gold': 872, 'daddy': 873, 'daughter': 874, \"guy's\": 875, 'war': 876, 'working': 877, \"soldier's\": 878, 'ward': 879, 'such': 880, 'beauty': 881, 'yellow': 882, 'rose': 883, 'married': 884, 'wearing': 885, 'borrowed': 886, 'eight': 887, 'five': 888, 'sons': 889, 'daughters': 890, 'snow': 891, 'streak': 892, 'sixty': 893, 'armchairs': 894, 'adore': 895, 'farm': 896, 'born': 897, 'belfast': 898, 'worried': 899, 'king': 900, 'southern': 901, 'difference': 902, 'assure': 903, 'spinning': 904, \"sinnin'\": 905, 'sipping': 906, 'red': 907, 'ages': 908, 'ripping': 909, 'tomorrow': 910, 'dove': 911, 'lies': 912, 'kind': 913, 'silhouette': 914, 'tenerife': 915, 'sea': 916, 'surrounding': 917, 'word': 918, 'wilderness': 919, 'lumiere': 920, 'beth': 921, 'youth': 922, 'sticking': 923, 'stand': 924, \"'cross\": 925, 'fu': 926, 'death': 927, 'stare': 928, 'faucet': 929, 'crossfit': 930, 'pew': 931, 'pow': 932, 'ass': 933, 'kick': 934, 'blowing': 935, 'exhausted': 936, 'slide': 937, 'anytime': 938, 'bitches': 939, 'blade': 940, 'lip': 941, 'gloss': 942, 'kit': 943, 'hi': 944, 'queen': 945, 'flirt': 946, 'hbic': 947, 'quit': 948, \"messin'\": 949, 'rucksack': 950, 'jokes': 951, 'tracks': 952, 'throw': 953, 'punch': 954, 'lines': 955, 'relevant': 956, 'celibate': 957, 'developing': 958, 'lacks': 959, 'melanin': 960, 'shot': 961, 'adrenaline': 962, 'mainstream': 963, 'seem': 964, 'held': 965, 'packaged': 966, 'image': 967, 'content': 968, 'sold': 969, 'gimmick': 970, 'dating': 971, 'actresses': 972, 'dirty': 973, 'mattresses': 974, 'practice': 975, 'happen': 976, 'laxative': 977, \"world's\": 978, 'atlas': 979, 'bars': 980, 'sharp': 981, 'cactus': 982, 'practicing': 983, \"ya'\": 984, 'unorthodox': 985, 'runner': 986, 'gear': 987, 'stepping': 988, 'double': 989, 'clutch': 990, 'brakes': 991, 'cut': 992, 'tyres': 993, 'screeching': 994, 'odd': 995, 'qualified': 996, 'season': 997, 'dilemma': 998, 'kin': 999, 'queeming': 1000, 'thats': 1001, 'mic': 1002, 'dinner': 1003, 'gas': 1004, 'disco': 1005, 'sisqo': 1006, 'plauqe': 1007, 'happens': 1008, 'talent': 1009, 'exist': 1010, \"i'mma\": 1011, 'smash': 1012, 'lyrically': 1013, 'capable': 1014, 'break': 1015, 'amputate': 1016, 'lower': 1017, 'limb': 1018, 'autumn': 1019, 'check': 1020, 'post': 1021, 'mortem': 1022, 'passed': 1023, 'killed': 1024, 'fortune': 1025, 'luck': 1026, 'clocks': 1027, 'aviated': 1028, 'times': 1029, \"nothing's\": 1030, 'sprinter': 1031, 'chains': 1032, 'manner': 1033, 'safe': 1034, 'respected': 1035, 'tested': 1036, 'devs': 1037, 'tune': 1038, 'eminem': 1039, \"5'9\": 1040, 'competition': 1041, 'fish': 1042, \"feelin'\": 1043, 'happened': 1044, 'having': 1045, 'starts': 1046, 'explanation': 1047, 'pure': 1048, 'scarred': 1049, 'places': 1050, 'insecure': 1051, 'nails': 1052, 'overweight': 1053, 'fluctuate': 1054, 'overthink': 1055, 'lose': 1056, 'train': 1057, '30': 1058, 'minutes': 1059, 'behind': 1060, \"nothin'\": 1061, 'lets': 1062, 'cover': 1063, 'cuddle': 1064, 'safety': 1065, 'wind': 1066, 'hate': 1067, 'staring': 1068, 'shooting': 1069, 'star': 1070, 'lullaby': 1071, 'waterside': 1072, 'skyline': 1073, 'splits': 1074, 'seeing': 1075, 'wonder': 1076, \"'chasing\": 1077, \"cars'\": 1078, 'lying': 1079, 'lamp': 1080, 'lit': 1081, 'streets': 1082, 'amsterdam': 1083, 'true': 1084, 'lilacs': 1085, 'bloom': 1086, 'river': 1087, 'spend': 1088, 'roof': 1089, 'round': 1090, 'sunrise': 1091, 'replace': 1092, 'shouldn': 1093, 'walking': 1094, '29th': 1095, 'park': 1096, \"another's\": 1097, 'month': 1098, 'apart': 1099, 'laugh': 1100, 'smiles': 1101, 'twice': 1102, 'wide': 1103, 'ours': 1104, 'personal': 1105, 'moving': 1106, 'reminding': 1107, 'nursing': 1108, 'empty': 1109, 'telling': 1110, \"aren't\": 1111, 'others': 1112, 'breaks': 1113, 'lovers': 1114, 'yo': 1115, 'deals': 1116, 'twanged': 1117, 'planned': 1118, 'goons': 1119, 'gangs': 1120, 'banged': 1121, '12': 1122, 'gage': 1123, 'rip': 1124, 'sick': 1125, 'fits': 1126, 'mix': 1127, 'glitz': 1128, 'glam': 1129, 'stupid': 1130, \"'gram\": 1131, 'online': 1132, 'neeky': 1133, \"g'd\": 1134, 'neek': 1135, 'ap': 1136, 'speak': 1137, 'shoot': 1138, 'scuba': 1139, 'dived': 1140, 'unified': 1141, 'boys': 1142, 'crucified': 1143, 'mike': 1144, 'because': 1145, 'thinks': 1146, 'rhymes': 1147, 'packet': 1148, 'crisps': 1149, 'pint': 1150, \"haven't\": 1151, 'fault': 1152, 'grossed': 1153, \"billi'\": 1154, 'divide': 1155, 'kidding': 1156, 'horse': 1157, 'travelled': 1158, 'million': 1159, 'heading': 1160, 'brow': 1161, \"drippin'\": 1162, 'rome': 1163, 'quite': 1164, 'squeeze': 1165, 'pen': 1166, 'remix': 1167, 'arrived': 1168, 'wembley': 1169, 'stadiums': 1170, 'aliens': 1171, 'supermalts': 1172, 'vibranium': 1173, 'rm11': 1174, 'titanium': 1175, 'rock': 1176, '5970': 1177, 'daily': 1178, 'tags': 1179, \"rippin'\": 1180, \"blowin'\": 1181, 'ted': 1182, 'amazing': 1183, 'bow': 1184, 'global': 1185, '2015': 1186, 'badingham': 1187, 'stormz': 1188, \"he'll\": 1189, 'wrapping': 1190, 'win': 1191, 'brits': 1192, 'glasto': 1193, 'grafton': 1194, 'shared': 1195, 'cigarette': 1196, 'guitar': 1197, 'gaelic': 1198, 'arm': 1199, 'jamie': 1200, 'chaser': 1201, 'jack': 1202, 'arthur': 1203, 'johnny': 1204, 'riding': 1205, 'shotgun': 1206, 'chatted': 1207, 'darts': 1208, 'pool': 1209, 'orders': 1210, 'stood': 1211, 'stool': 1212, 'cèilidh': 1213, 'trad': 1214, 'tunes': 1215, 'carrickfergus': 1216, 'capella': 1217, 'using': 1218, 'voice': 1219, 'repeat': 1220, 'outstayed': 1221, 'welcome': 1222, 'coats': 1223, 'whisky': 1224, 'doritos': 1225, 'club': 1226, \"isn't\": 1227, 'shots': 1228, 'drinking': 1229, 'fast': 1230, 'chance': 1231, 'story': 1232, 'begin': 1233, 'date': 1234, 'thrifty': 1235, 'bag': 1236, 'plate': 1237, 'family': 1238, 'taxi': 1239, 'backseat': 1240, 'driver': 1241, 'youi': 1242, 'gets': 1243, 'makes': 1244, 'alive': 1245, 'heal': 1246, 'easier': 1247, 'piece': 1248, 'necklace': 1249, 'sixteen': 1250, 'heartbeat': 1251, 'lamppost': 1252, 'sixth': 1253, 'hearing': 1254, 'whisper': 1255, 'work': 1256, 'used': 1257, 'sweep': 1258, 'cheeks': 1259, '70': 1260, '23': 1261, 'single': 1262, \"hair's\": 1263, 'fades': 1264, 'crowds': 1265, 'strings': 1266, 'grow': 1267, 'evergreen': 1268, \"smile's\": 1269, 'plan': 1270, 'mistakes': 1271, 'hoping': 1272, 'suit': 1273, 'tie': 1274, 'wondering': 1275, 'sneak': 1276, 'shall': 1277, 'anyway': 1278, 'read': 1279, 'crippled': 1280, 'anxiety': 1281, \"s'posed\": 1282, 'kinda': 1283, 'six': 1284, 'leg': 1285, 'tasted': 1286, 'perfume': 1287, 'mountain': 1288, 'roaring': 1289, 'fields': 1290, 'fifteen': 1291, 'smoking': 1292, 'cigarettes': 1293, 'law': 1294, 'backfields': 1295, 'friday': 1296, 'weekend': 1297, 'jobs': 1298, 'paid': 1299, \"we'd\": 1300, 'buy': 1301, 'cheap': 1302, 'spirits': 1303, 'thrown': 1304, 'left': 1305, 'works': 1306, 'coast': 1307, 'lives': 1308, 'overdosed': 1309, 'wife': 1310, 'barely': 1311, 'raised': 1312, 'answers': 1313, 'saturday': 1314, 'sundown': 1315, 'lamborginis': 1316, 'rented': 1317, 'hummers': 1318, \"party's\": 1319, \"headin'\": 1320, 'downtown': 1321, \"lovin'\": 1322, 'drove': 1323, 'nowhere': 1324, 'halfway': 1325, 'fazed': 1326, \"flashin'\": 1327, 'cameras': 1328, 'caramel': 1329, 'thighs': 1330, \"wearin'\": 1331, 'less': 1332, 'drives': 1333, 'hips': 1334, \"givin'\": 1335, 'signs': 1336, 'suddenly': 1337, 'glad': 1338, 'ay': 1339, \"takin'\": 1340, 'flawless': 1341, 'field': 1342, 'buenos': 1343, 'aires': 1344, \"sun's\": 1345, 'rising': 1346, 'risk': 1347, 'shine': 1348, 'ice': 1349, 'vice': 1350, 'type': 1351, 'whips': 1352, 'furs': 1353, 'prefer': 1354, 'closet': 1355, 'hers': 1356, 'mamacita': 1357, 'margarita': 1358, 'jungle': 1359, 'fever': 1360, 'tongue': 1361, 'jordan': 1362, 'explore': 1363, \"somethin'\": 1364, 'foreign': 1365, 'bust': 1366, 'forest': 1367, \"pourin'\": 1368, 'rub': 1369, 'genie': 1370, 'spot': 1371, 'lamborghini': 1372, 'finally': 1373, 'ball': 1374, 'waking': 1375, 'splattered': 1376, 'teardrops': 1377, 'shirt': 1378, 'turns': 1379, 'craving': 1380, 'drowning': 1381, 'company': 1382, 'harm': 1383, 'alas': 1384, 'width': 1385, 'recall': 1386, 'comrades': 1387, 'sweethearts': 1388, 'unto': 1389, 'lot': 1390, 'gently': 1391, 'softly': 1392, 'slain': 1393, 'court': 1394, 'perhaps': 1395, 'welcomed': 1396, 'has': 1397, 'ought': 1398, 'year': 1399, 'mistake': 1400, 'trouble': 1401, 'jumped': 1402, 'later': 1403, 'returned': 1404, 'pause': 1405, 'months': 1406, 'paths': 1407, 'swing': 1408, 'lemon': 1409, 'gin': 1410, 'sheets': 1411, 'weeks': 1412, 'takeaway': 1413, 'pizza': 1414, 'text': 1415, 'message': 1416, 'treat': 1417, 'aretha': 1418, 'feature': 1419, 'sleep': 1420, 'either': 1421, 'cities': 1422, 'planes': 1423, 'film': 1424, 'missing': 1425, 'written': 1426, 'confused': 1427, 'door': 1428, 'crying': 1429, 'shoulder': 1430, 'intended': 1431, 'threat': 1432, 'disappeared': 1433, 'sex': 1434, 'course': 1435, 'floor': 1436, \"wasn't\": 1437, 'commitment': 1438, 'realized': 1439, 'honest': 1440, 'waited': 1441, 'apologize': 1442, 'harder': 1443, 'rocks': 1444, 'lake': 1445, 'mystery': 1446, 'traveled': 1447, \"what's\": 1448, 'history': 1449, 'tendency': 1450, 'mmh': 1451, 'awake': 1452, 'pale': 1453, 'breathing': 1454, 'snowflakes': 1455, 'burnt': 1456, \"light's\": 1457, 'struggling': 1458, 'rent': 1459, 'strange': 1460, 'men': 1461, 'gloves': 1462, 'raincoat': 1463, 'swim': 1464, 'afloat': 1465, 'loose': 1466, 'bank': 1467, 'weary': 1468, 'eyed': 1469, 'throat': 1470, 'covered': 1471, \"hopin'\": 1472, 'supermarket': 1473, 'flowers': 1474, 'windowsill': 1475, 'threw': 1476, 'tea': 1477, 'cup': 1478, 'photo': 1479, 'matthew': 1480, 'soon': 1481, 'stuffed': 1482, 'animals': 1483, 'poured': 1484, 'ginger': 1485, 'beer': 1486, 'sink': 1487, 'dad': 1488, 'cry': 1489, 'blink': 1490, 'tearing': 1491, 'fluffed': 1492, 'pillows': 1493, 'beds': 1494, 'stacked': 1495, 'chairs': 1496, 'folded': 1497, 'nightgowns': 1498, 'neatly': 1499, 'john': 1500, \"he'd\": 1501, 'cheek': 1502, 'wiped': 1503, 'lived': 1504, 'build': 1505, 'lego': 1506, 'knock': 1507, 'meanings': 1508, 'numbers': 1509, 'color': 1510, 'frame': 1511, 'wall': 1512, 'surrender': 1513, 'swap': 1514, 'yours': 1515, 'braces': 1516, 'breaking': 1517}\n",
            "1518\n"
          ],
          "name": "stdout"
        }
      ]
    },
    {
      "cell_type": "code",
      "metadata": {
        "colab": {
          "base_uri": "https://localhost:8080/"
        },
        "id": "l7r-rlSq0l4j",
        "outputId": "28115186-cc75-4415-c015-832f09dcc561"
      },
      "source": [
        "print(tokenizer.word_index[\"ain't\"])"
      ],
      "execution_count": null,
      "outputs": [
        {
          "output_type": "stream",
          "text": [
            "98\n"
          ],
          "name": "stdout"
        }
      ]
    },
    {
      "cell_type": "code",
      "metadata": {
        "id": "_DgkGf1v0FQj"
      },
      "source": [
        "input_seq = []\r\n",
        "\r\n",
        "for line in corpus:\r\n",
        "  token_list = tokenizer.texts_to_sequences([line])[0]\r\n",
        "  for i in range(1,len(token_list)):\r\n",
        "    ngram_seq = token_list[:i+1]\r\n",
        "    input_seq.append(ngram_seq)\r\n",
        "\r\n",
        "max_seq_len = max([len(x) for x in input_seq])\r\n",
        "input_seq = np.array(pad_sequences(input_seq,maxlen = max_seq_len,padding = 'pre'))\r\n",
        "\r\n",
        "xs,labels = input_seq[:,:-1],input_seq[:,-1]\r\n",
        "\r\n",
        "ys = tf.keras.utils.to_categorical(labels,num_classes = total_words)\r\n"
      ],
      "execution_count": null,
      "outputs": []
    },
    {
      "cell_type": "code",
      "metadata": {
        "colab": {
          "base_uri": "https://localhost:8080/"
        },
        "id": "xxzqbeKJ490N",
        "outputId": "716a8e2d-d27e-49a9-f49c-44d77b662955"
      },
      "source": [
        "print(max_seq_len)"
      ],
      "execution_count": null,
      "outputs": [
        {
          "output_type": "stream",
          "text": [
            "16\n"
          ],
          "name": "stdout"
        }
      ]
    },
    {
      "cell_type": "code",
      "metadata": {
        "colab": {
          "base_uri": "https://localhost:8080/"
        },
        "id": "V-lJfJYC39X1",
        "outputId": "b1eb04df-558d-485b-fa41-3fc4f3f6b769"
      },
      "source": [
        "model = Sequential()\r\n",
        "model.add(Embedding(total_words,90,input_length = max_seq_len - 1))\r\n",
        "model.add(Bidirectional(LSTM(80,return_sequences=True)))\r\n",
        "model.add(Bidirectional(LSTM(70)))\r\n",
        "#model.add(Bidirectional(LSTM(30)))\r\n",
        "#model.add(Dense(512,activation = 'relu'))\r\n",
        "#model.add(Dense(10,activation = 'relu'))\r\n",
        "model.add(Dense(total_words,activation = 'softmax'))\r\n",
        "adam = Adam(lr = 0.01)\r\n",
        "model.compile(loss='categorical_crossentropy', optimizer=adam, metrics=['accuracy'])\r\n",
        "print(model.summary())"
      ],
      "execution_count": null,
      "outputs": [
        {
          "output_type": "stream",
          "text": [
            "Model: \"sequential\"\n",
            "_________________________________________________________________\n",
            "Layer (type)                 Output Shape              Param #   \n",
            "=================================================================\n",
            "embedding (Embedding)        (None, 15, 90)            136620    \n",
            "_________________________________________________________________\n",
            "bidirectional (Bidirectional (None, 15, 160)           109440    \n",
            "_________________________________________________________________\n",
            "bidirectional_1 (Bidirection (None, 140)               129360    \n",
            "_________________________________________________________________\n",
            "dense (Dense)                (None, 1518)              214038    \n",
            "=================================================================\n",
            "Total params: 589,458\n",
            "Trainable params: 589,458\n",
            "Non-trainable params: 0\n",
            "_________________________________________________________________\n",
            "None\n"
          ],
          "name": "stdout"
        }
      ]
    },
    {
      "cell_type": "code",
      "metadata": {
        "colab": {
          "base_uri": "https://localhost:8080/"
        },
        "id": "oQnJ40xc5V1m",
        "outputId": "e2cbc41f-6699-4e47-a80e-508d3da22425"
      },
      "source": [
        "history = model.fit(xs, ys, epochs=50, verbose=1)"
      ],
      "execution_count": null,
      "outputs": [
        {
          "output_type": "stream",
          "text": [
            "Epoch 1/50\n",
            "297/297 [==============================] - 14s 11ms/step - loss: 6.2861 - accuracy: 0.0381\n",
            "Epoch 2/50\n",
            "297/297 [==============================] - 4s 12ms/step - loss: 5.5133 - accuracy: 0.0615\n",
            "Epoch 3/50\n",
            "297/297 [==============================] - 3s 12ms/step - loss: 5.0422 - accuracy: 0.1144\n",
            "Epoch 4/50\n",
            "297/297 [==============================] - 3s 11ms/step - loss: 4.7367 - accuracy: 0.1477\n",
            "Epoch 5/50\n",
            "297/297 [==============================] - 3s 11ms/step - loss: 4.5466 - accuracy: 0.1713\n",
            "Epoch 6/50\n",
            "297/297 [==============================] - 3s 11ms/step - loss: 4.0939 - accuracy: 0.2216\n",
            "Epoch 7/50\n",
            "297/297 [==============================] - 3s 11ms/step - loss: 3.9098 - accuracy: 0.2436\n",
            "Epoch 8/50\n",
            "297/297 [==============================] - 3s 11ms/step - loss: 3.6106 - accuracy: 0.2786\n",
            "Epoch 9/50\n",
            "297/297 [==============================] - 3s 11ms/step - loss: 3.3180 - accuracy: 0.3147\n",
            "Epoch 10/50\n",
            "297/297 [==============================] - 3s 12ms/step - loss: 3.0672 - accuracy: 0.3583\n",
            "Epoch 11/50\n",
            "297/297 [==============================] - 3s 11ms/step - loss: 2.8615 - accuracy: 0.3801\n",
            "Epoch 12/50\n",
            "297/297 [==============================] - 3s 11ms/step - loss: 2.6526 - accuracy: 0.4144\n",
            "Epoch 13/50\n",
            "297/297 [==============================] - 3s 11ms/step - loss: 2.4424 - accuracy: 0.4464\n",
            "Epoch 14/50\n",
            "297/297 [==============================] - 3s 11ms/step - loss: 2.2718 - accuracy: 0.4751\n",
            "Epoch 15/50\n",
            "297/297 [==============================] - 3s 11ms/step - loss: 2.1782 - accuracy: 0.4967\n",
            "Epoch 16/50\n",
            "297/297 [==============================] - 3s 11ms/step - loss: 1.9286 - accuracy: 0.5386\n",
            "Epoch 17/50\n",
            "297/297 [==============================] - 3s 11ms/step - loss: 1.8012 - accuracy: 0.5719\n",
            "Epoch 18/50\n",
            "297/297 [==============================] - 3s 11ms/step - loss: 1.6738 - accuracy: 0.5893\n",
            "Epoch 19/50\n",
            "297/297 [==============================] - 3s 11ms/step - loss: 1.5820 - accuracy: 0.6171\n",
            "Epoch 20/50\n",
            "297/297 [==============================] - 3s 11ms/step - loss: 1.4027 - accuracy: 0.6470\n",
            "Epoch 21/50\n",
            "297/297 [==============================] - 3s 11ms/step - loss: 1.3174 - accuracy: 0.6703\n",
            "Epoch 22/50\n",
            "297/297 [==============================] - 3s 11ms/step - loss: 1.2965 - accuracy: 0.6589\n",
            "Epoch 23/50\n",
            "297/297 [==============================] - 3s 11ms/step - loss: 1.2281 - accuracy: 0.6809\n",
            "Epoch 24/50\n",
            "297/297 [==============================] - 3s 11ms/step - loss: 1.1472 - accuracy: 0.6949\n",
            "Epoch 25/50\n",
            "297/297 [==============================] - 3s 11ms/step - loss: 1.1156 - accuracy: 0.7040\n",
            "Epoch 26/50\n",
            "297/297 [==============================] - 3s 11ms/step - loss: 1.1242 - accuracy: 0.6985\n",
            "Epoch 27/50\n",
            "297/297 [==============================] - 3s 11ms/step - loss: 1.0794 - accuracy: 0.7151\n",
            "Epoch 28/50\n",
            "297/297 [==============================] - 3s 11ms/step - loss: 1.0138 - accuracy: 0.7324\n",
            "Epoch 29/50\n",
            "297/297 [==============================] - 3s 11ms/step - loss: 1.0512 - accuracy: 0.7219\n",
            "Epoch 30/50\n",
            "297/297 [==============================] - 3s 11ms/step - loss: 1.0012 - accuracy: 0.7279\n",
            "Epoch 31/50\n",
            "297/297 [==============================] - 3s 11ms/step - loss: 0.9154 - accuracy: 0.7517\n",
            "Epoch 32/50\n",
            "297/297 [==============================] - 3s 11ms/step - loss: 0.9395 - accuracy: 0.7403\n",
            "Epoch 33/50\n",
            "297/297 [==============================] - 3s 11ms/step - loss: 0.8824 - accuracy: 0.7584\n",
            "Epoch 34/50\n",
            "297/297 [==============================] - 3s 11ms/step - loss: 0.8858 - accuracy: 0.7601\n",
            "Epoch 35/50\n",
            "297/297 [==============================] - 3s 11ms/step - loss: 0.8748 - accuracy: 0.7609\n",
            "Epoch 36/50\n",
            "297/297 [==============================] - 3s 12ms/step - loss: 0.8750 - accuracy: 0.7530\n",
            "Epoch 37/50\n",
            "297/297 [==============================] - 3s 11ms/step - loss: 0.8546 - accuracy: 0.7575\n",
            "Epoch 38/50\n",
            "297/297 [==============================] - 4s 13ms/step - loss: 0.8990 - accuracy: 0.7414\n",
            "Epoch 39/50\n",
            "297/297 [==============================] - 4s 12ms/step - loss: 0.8683 - accuracy: 0.7583\n",
            "Epoch 40/50\n",
            "297/297 [==============================] - 4s 12ms/step - loss: 0.8308 - accuracy: 0.7691\n",
            "Epoch 41/50\n",
            "297/297 [==============================] - 4s 13ms/step - loss: 0.8062 - accuracy: 0.7715\n",
            "Epoch 42/50\n",
            "297/297 [==============================] - 3s 12ms/step - loss: 0.8557 - accuracy: 0.7549\n",
            "Epoch 43/50\n",
            "297/297 [==============================] - 4s 12ms/step - loss: 0.8256 - accuracy: 0.7731\n",
            "Epoch 44/50\n",
            "297/297 [==============================] - 4s 13ms/step - loss: 0.7531 - accuracy: 0.7868\n",
            "Epoch 45/50\n",
            "297/297 [==============================] - 4s 13ms/step - loss: 0.7579 - accuracy: 0.7850\n",
            "Epoch 46/50\n",
            "297/297 [==============================] - 3s 12ms/step - loss: 0.7629 - accuracy: 0.7837\n",
            "Epoch 47/50\n",
            "297/297 [==============================] - 3s 12ms/step - loss: 0.7815 - accuracy: 0.7755\n",
            "Epoch 48/50\n",
            "297/297 [==============================] - 4s 12ms/step - loss: 0.7953 - accuracy: 0.7776\n",
            "Epoch 49/50\n",
            "297/297 [==============================] - 4s 12ms/step - loss: 0.8634 - accuracy: 0.7538\n",
            "Epoch 50/50\n",
            "297/297 [==============================] - 3s 11ms/step - loss: 0.8093 - accuracy: 0.7682\n"
          ],
          "name": "stdout"
        }
      ]
    },
    {
      "cell_type": "code",
      "metadata": {
        "id": "jk5VhGEj8G6C"
      },
      "source": [
        "import matplotlib.pyplot as plt\r\n",
        "\r\n",
        "\r\n",
        "def plot_graphs(history, string):\r\n",
        "  plt.plot(history.history[string])\r\n",
        "  plt.xlabel(\"Epochs\")\r\n",
        "  plt.ylabel(string)\r\n",
        "  plt.show()"
      ],
      "execution_count": null,
      "outputs": []
    },
    {
      "cell_type": "code",
      "metadata": {
        "colab": {
          "base_uri": "https://localhost:8080/",
          "height": 267
        },
        "id": "vB2nadeT8LND",
        "outputId": "c77248c6-959d-47e1-ace4-412b14913001"
      },
      "source": [
        "plt.plot(history.history['accuracy'])\r\n",
        "plt.show()"
      ],
      "execution_count": null,
      "outputs": [
        {
          "output_type": "display_data",
          "data": {
            "image/png": "[encoded data removed]",
            "text/plain": [
              "<Figure size 432x288 with 1 Axes>"
            ]
          },
          "metadata": {
            "tags": [],
            "needs_background": "light"
          }
        }
      ]
    },
    {
      "cell_type": "code",
      "metadata": {
        "colab": {
          "base_uri": "https://localhost:8080/"
        },
        "id": "_DnvSL0X8WTV",
        "outputId": "15bc3b07-13a1-44d5-a6ed-f475dd58d2f1"
      },
      "source": [
        "seed_text = \"i hear a song\"\r\n",
        "next_words = 150\r\n",
        "  \r\n",
        "for _ in range(next_words):\r\n",
        "\ttoken_list = tokenizer.texts_to_sequences([seed_text])[0]\r\n",
        "\ttoken_list = pad_sequences([token_list], maxlen=max_seq_len-1, padding='pre')\r\n",
        "\tpredicted = model.predict_classes(token_list, verbose=0)\r\n",
        "\toutput_word = \"\"\r\n",
        "\tfor word, index in tokenizer.word_index.items():\r\n",
        "\t\tif index == predicted:\r\n",
        "\t\t\toutput_word = word\r\n",
        "\t\t\tbreak\r\n",
        "\tseed_text += \" \" + output_word\r\n",
        "print(seed_text)"
      ],
      "execution_count": null,
      "outputs": [
        {
          "output_type": "stream",
          "text": [
            "/usr/local/lib/python3.6/dist-packages/tensorflow/python/keras/engine/sequential.py:450: UserWarning: `model.predict_classes()` is deprecated and will be removed after 2021-01-01. Please use instead:* `np.argmax(model.predict(x), axis=-1)`,   if your model does multi-class classification   (e.g. if it uses a `softmax` last-layer activation).* `(model.predict(x) > 0.5).astype(\"int32\")`,   if your model does binary classification   (e.g. if it uses a `sigmoid` last-layer activation).\n",
            "  warnings.warn('`model.predict_classes()` is deprecated and '\n"
          ],
          "name": "stderr"
        },
        {
          "output_type": "stream",
          "text": [
            "i hear a song that i just want to better 'cause i know a bit wrong a bit or sell a bit you're a gimmick a bit a gimmick a gimmick image a gimmick the image a bit a bit a bit a bit a gimmick a bit a image a bit a bit a bit the a bit a gimmick a bit a bit a bit a bit and sell a gimmick a bit a gimmick a bit a gimmick a image image a gimmick a bit a bit a gimmick image a bit a image fly to the a bit a image a bit a bit a bit a bit a bit a gimmick a bit a bit a bit a bit a bit a gimmick a bit a bit a bit a bit a bit a gimmick a bit a bit a bit a bit a bit a gimmick a bit\n"
          ],
          "name": "stdout"
        }
      ]
    },
    {
      "cell_type": "code",
      "metadata": {
        "id": "lc19kDOd-yDU"
      },
      "source": [
        "model.save(\"sheeran_npl_model.h5\")"
      ],
      "execution_count": null,
      "outputs": []
    },
    {
      "cell_type": "code",
      "metadata": {
        "id": "D5uMCY8O_V7N"
      },
      "source": [
        "import pickle\r\n",
        "\r\n",
        "# saving\r\n",
        "with open('tokenizer.pickle', 'wb') as handle:\r\n",
        "    pickle.dump(tokenizer, handle, protocol=pickle.HIGHEST_PROTOCOL)"
      ],
      "execution_count": null,
      "outputs": []
    },
    {
      "cell_type": "markdown",
      "metadata": {
        "id": "vsaIllHIAccE"
      },
      "source": [
        "# New section"
      ]
    },
    {
      "cell_type": "code",
      "metadata": {
        "id": "cQHDzTRFA4AU"
      },
      "source": [
        "import pickle\r\n",
        "with open('tokenizer.pickle', 'rb') as handle:\r\n",
        "    tokenizer = pickle.load(handle)"
      ],
      "execution_count": null,
      "outputs": []
    },
    {
      "cell_type": "code",
      "metadata": {
        "id": "oz_qdqZGA7Iu"
      },
      "source": [
        "model = keras.models.load_model('sheeran_npl_model.h5')"
      ],
      "execution_count": null,
      "outputs": []
    },
    {
      "cell_type": "code",
      "metadata": {
        "colab": {
          "base_uri": "https://localhost:8080/"
        },
        "id": "TUkWeOX3Iyb4",
        "outputId": "185d63a9-a972-4008-a669-9ba784d595aa"
      },
      "source": [
        "seed_text = \"i hear a song\"\r\n",
        "next_words = 150\r\n",
        "  \r\n",
        "for _ in range(next_words):\r\n",
        "\ttoken_list = tokenizer.texts_to_sequences([seed_text])[0]\r\n",
        "\ttoken_list = pad_sequences([token_list], maxlen=16-1, padding='pre')\r\n",
        "\tpredicted = model.predict_classes(token_list, verbose=0)\r\n",
        "\toutput_word = \"\"\r\n",
        "\tfor word, index in tokenizer.word_index.items():\r\n",
        "\t\tif index == predicted:\r\n",
        "\t\t\toutput_word = word\r\n",
        "\t\t\tbreak\r\n",
        "\tseed_text += \" \" + output_word\r\n",
        "print(seed_text)"
      ],
      "execution_count": null,
      "outputs": [
        {
          "output_type": "stream",
          "text": [
            "/usr/local/lib/python3.6/dist-packages/tensorflow/python/keras/engine/sequential.py:450: UserWarning: `model.predict_classes()` is deprecated and will be removed after 2021-01-01. Please use instead:* `np.argmax(model.predict(x), axis=-1)`,   if your model does multi-class classification   (e.g. if it uses a `softmax` last-layer activation).* `(model.predict(x) > 0.5).astype(\"int32\")`,   if your model does binary classification   (e.g. if it uses a `sigmoid` last-layer activation).\n",
            "  warnings.warn('`model.predict_classes()` is deprecated and '\n"
          ],
          "name": "stderr"
        },
        {
          "output_type": "stream",
          "text": [
            "i hear a song and come good to to the ill woman come again hopeless as your pocket my as so it me li to and alone quite go pocket pocket fond and alone or black me bright it a it as my very but a serve moon and moonlight as take their me pocket me flag me sat the story and far quite on story that through die and far ground i it me crooning today it a in and hearts it and quite from it and quite the play and flag all and just with and quite it a my a me run the may stood alone put a and home my me fond alone morning it me until quite it me town stood it me through to pocket or me alone pheasants a it me fountain all of till me through it a it hosannahs their a their will as me\n"
          ],
          "name": "stdout"
        }
      ]
    }
  ]
}